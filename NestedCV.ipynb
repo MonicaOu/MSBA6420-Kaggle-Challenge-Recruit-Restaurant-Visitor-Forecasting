{
 "cells": [
  {
   "cell_type": "code",
   "execution_count": 2,
   "metadata": {},
   "outputs": [],
   "source": [
    "import numpy as np\n",
    "import pandas as pd\n",
    "import matplotlib.pyplot as plt\n",
    "import itertools\n",
    "from sklearn.pipeline import Pipeline\n",
    "from sklearn.linear_model import LogisticRegression\n",
    "from sklearn.neighbors import KNeighborsClassifier\n",
    "from sklearn.tree import DecisionTreeClassifier\n",
    "from sklearn.naive_bayes import GaussianNB\n",
    "from sklearn.svm import SVC\n",
    "from sklearn.model_selection import train_test_split, GridSearchCV, cross_val_score, StratifiedKFold\n",
    "from sklearn.preprocessing import StandardScaler, LabelEncoder, OrdinalEncoder, OneHotEncoder\n",
    "from sklearn.pipeline import Pipeline\n",
    "from sklearn.metrics import confusion_matrix, roc_curve, auc, plot_confusion_matrix, classification_report, \\\n",
    "                            roc_auc_score, mean_absolute_error as MAE, mean_absolute_percentage_error as MAPE, \\\n",
    "                            mean_squared_error as MSE, accuracy_score, f1_score\n",
    "import scikitplot as skplt\n",
    "# !pip install nested-cv\n",
    "# from nested_cv import NestedCV"
   ]
  },
  {
   "cell_type": "code",
   "execution_count": 3,
   "metadata": {},
   "outputs": [],
   "source": [
    "%matplotlib inline"
   ]
  },
  {
   "cell_type": "markdown",
   "metadata": {},
   "source": [
    "### Q4"
   ]
  },
  {
   "cell_type": "code",
   "execution_count": 4,
   "metadata": {},
   "outputs": [
    {
     "data": {
      "text/html": [
       "<div>\n",
       "<style scoped>\n",
       "    .dataframe tbody tr th:only-of-type {\n",
       "        vertical-align: middle;\n",
       "    }\n",
       "\n",
       "    .dataframe tbody tr th {\n",
       "        vertical-align: top;\n",
       "    }\n",
       "\n",
       "    .dataframe thead th {\n",
       "        text-align: right;\n",
       "    }\n",
       "</style>\n",
       "<table border=\"1\" class=\"dataframe\">\n",
       "  <thead>\n",
       "    <tr style=\"text-align: right;\">\n",
       "      <th></th>\n",
       "      <th>ID</th>\n",
       "      <th>Diagnosis</th>\n",
       "      <th>radius</th>\n",
       "      <th>texture</th>\n",
       "      <th>perimeter</th>\n",
       "      <th>area</th>\n",
       "      <th>smoothness</th>\n",
       "      <th>compactness</th>\n",
       "      <th>concavity</th>\n",
       "      <th>concave_points</th>\n",
       "      <th>...</th>\n",
       "      <th>radiusW</th>\n",
       "      <th>textureW</th>\n",
       "      <th>perimeterW</th>\n",
       "      <th>areaW</th>\n",
       "      <th>smoothnessW</th>\n",
       "      <th>compactnessW</th>\n",
       "      <th>concavityW</th>\n",
       "      <th>concave_pointsW</th>\n",
       "      <th>symmetryW</th>\n",
       "      <th>fractal_dimensionW</th>\n",
       "    </tr>\n",
       "  </thead>\n",
       "  <tbody>\n",
       "    <tr>\n",
       "      <th>0</th>\n",
       "      <td>842302</td>\n",
       "      <td>M</td>\n",
       "      <td>17.99</td>\n",
       "      <td>10.38</td>\n",
       "      <td>122.80</td>\n",
       "      <td>1001.0</td>\n",
       "      <td>0.11840</td>\n",
       "      <td>0.27760</td>\n",
       "      <td>0.3001</td>\n",
       "      <td>0.14710</td>\n",
       "      <td>...</td>\n",
       "      <td>25.38</td>\n",
       "      <td>17.33</td>\n",
       "      <td>184.60</td>\n",
       "      <td>2019.0</td>\n",
       "      <td>0.1622</td>\n",
       "      <td>0.6656</td>\n",
       "      <td>0.7119</td>\n",
       "      <td>0.2654</td>\n",
       "      <td>0.4601</td>\n",
       "      <td>0.11890</td>\n",
       "    </tr>\n",
       "    <tr>\n",
       "      <th>1</th>\n",
       "      <td>842517</td>\n",
       "      <td>M</td>\n",
       "      <td>20.57</td>\n",
       "      <td>17.77</td>\n",
       "      <td>132.90</td>\n",
       "      <td>1326.0</td>\n",
       "      <td>0.08474</td>\n",
       "      <td>0.07864</td>\n",
       "      <td>0.0869</td>\n",
       "      <td>0.07017</td>\n",
       "      <td>...</td>\n",
       "      <td>24.99</td>\n",
       "      <td>23.41</td>\n",
       "      <td>158.80</td>\n",
       "      <td>1956.0</td>\n",
       "      <td>0.1238</td>\n",
       "      <td>0.1866</td>\n",
       "      <td>0.2416</td>\n",
       "      <td>0.1860</td>\n",
       "      <td>0.2750</td>\n",
       "      <td>0.08902</td>\n",
       "    </tr>\n",
       "    <tr>\n",
       "      <th>2</th>\n",
       "      <td>84300903</td>\n",
       "      <td>M</td>\n",
       "      <td>19.69</td>\n",
       "      <td>21.25</td>\n",
       "      <td>130.00</td>\n",
       "      <td>1203.0</td>\n",
       "      <td>0.10960</td>\n",
       "      <td>0.15990</td>\n",
       "      <td>0.1974</td>\n",
       "      <td>0.12790</td>\n",
       "      <td>...</td>\n",
       "      <td>23.57</td>\n",
       "      <td>25.53</td>\n",
       "      <td>152.50</td>\n",
       "      <td>1709.0</td>\n",
       "      <td>0.1444</td>\n",
       "      <td>0.4245</td>\n",
       "      <td>0.4504</td>\n",
       "      <td>0.2430</td>\n",
       "      <td>0.3613</td>\n",
       "      <td>0.08758</td>\n",
       "    </tr>\n",
       "    <tr>\n",
       "      <th>3</th>\n",
       "      <td>84348301</td>\n",
       "      <td>M</td>\n",
       "      <td>11.42</td>\n",
       "      <td>20.38</td>\n",
       "      <td>77.58</td>\n",
       "      <td>386.1</td>\n",
       "      <td>0.14250</td>\n",
       "      <td>0.28390</td>\n",
       "      <td>0.2414</td>\n",
       "      <td>0.10520</td>\n",
       "      <td>...</td>\n",
       "      <td>14.91</td>\n",
       "      <td>26.50</td>\n",
       "      <td>98.87</td>\n",
       "      <td>567.7</td>\n",
       "      <td>0.2098</td>\n",
       "      <td>0.8663</td>\n",
       "      <td>0.6869</td>\n",
       "      <td>0.2575</td>\n",
       "      <td>0.6638</td>\n",
       "      <td>0.17300</td>\n",
       "    </tr>\n",
       "    <tr>\n",
       "      <th>4</th>\n",
       "      <td>84358402</td>\n",
       "      <td>M</td>\n",
       "      <td>20.29</td>\n",
       "      <td>14.34</td>\n",
       "      <td>135.10</td>\n",
       "      <td>1297.0</td>\n",
       "      <td>0.10030</td>\n",
       "      <td>0.13280</td>\n",
       "      <td>0.1980</td>\n",
       "      <td>0.10430</td>\n",
       "      <td>...</td>\n",
       "      <td>22.54</td>\n",
       "      <td>16.67</td>\n",
       "      <td>152.20</td>\n",
       "      <td>1575.0</td>\n",
       "      <td>0.1374</td>\n",
       "      <td>0.2050</td>\n",
       "      <td>0.4000</td>\n",
       "      <td>0.1625</td>\n",
       "      <td>0.2364</td>\n",
       "      <td>0.07678</td>\n",
       "    </tr>\n",
       "  </tbody>\n",
       "</table>\n",
       "<p>5 rows × 32 columns</p>\n",
       "</div>"
      ],
      "text/plain": [
       "         ID Diagnosis  radius  texture  perimeter    area  smoothness  \\\n",
       "0    842302         M   17.99    10.38     122.80  1001.0     0.11840   \n",
       "1    842517         M   20.57    17.77     132.90  1326.0     0.08474   \n",
       "2  84300903         M   19.69    21.25     130.00  1203.0     0.10960   \n",
       "3  84348301         M   11.42    20.38      77.58   386.1     0.14250   \n",
       "4  84358402         M   20.29    14.34     135.10  1297.0     0.10030   \n",
       "\n",
       "   compactness  concavity  concave_points  ...  radiusW  textureW  perimeterW  \\\n",
       "0      0.27760     0.3001         0.14710  ...    25.38     17.33      184.60   \n",
       "1      0.07864     0.0869         0.07017  ...    24.99     23.41      158.80   \n",
       "2      0.15990     0.1974         0.12790  ...    23.57     25.53      152.50   \n",
       "3      0.28390     0.2414         0.10520  ...    14.91     26.50       98.87   \n",
       "4      0.13280     0.1980         0.10430  ...    22.54     16.67      152.20   \n",
       "\n",
       "    areaW  smoothnessW  compactnessW  concavityW  concave_pointsW  symmetryW  \\\n",
       "0  2019.0       0.1622        0.6656      0.7119           0.2654     0.4601   \n",
       "1  1956.0       0.1238        0.1866      0.2416           0.1860     0.2750   \n",
       "2  1709.0       0.1444        0.4245      0.4504           0.2430     0.3613   \n",
       "3   567.7       0.2098        0.8663      0.6869           0.2575     0.6638   \n",
       "4  1575.0       0.1374        0.2050      0.4000           0.1625     0.2364   \n",
       "\n",
       "   fractal_dimensionW  \n",
       "0             0.11890  \n",
       "1             0.08902  \n",
       "2             0.08758  \n",
       "3             0.17300  \n",
       "4             0.07678  \n",
       "\n",
       "[5 rows x 32 columns]"
      ]
     },
     "execution_count": 4,
     "metadata": {},
     "output_type": "execute_result"
    }
   ],
   "source": [
    "wdbc_df = pd.read_csv('../hw1/wdbc.data', names= ['ID', 'Diagnosis', 'radius', 'texture', 'perimeter', 'area', 'smoothness',\n",
    "                                     'compactness', 'concavity', 'concave_points', 'symmetry', 'fractal_dimension',\n",
    "                                     'radiusSE', 'textureSE', 'perimeterSE', 'areaSE', 'smoothnessSE', \n",
    "                                     'compactnessSE', 'concavitySE', 'concave_pointsSE', 'symmetrySE', 'fractal_dimensionSE',\n",
    "                                     'radiusW', 'textureW', 'perimeterW', 'areaW', 'smoothnessW', \n",
    "                                     'compactnessW', 'concavityW', 'concave_pointsW', 'symmetryW', 'fractal_dimensionW'])\n",
    "wdbc_df.head()"
   ]
  },
  {
   "cell_type": "code",
   "execution_count": 5,
   "metadata": {},
   "outputs": [],
   "source": [
    "X = wdbc_df.drop(\"Diagnosis\", axis=1)\n",
    "y = wdbc_df[\"Diagnosis\"].map({'B':0, 'M':1})"
   ]
  },
  {
   "cell_type": "code",
   "execution_count": 6,
   "metadata": {},
   "outputs": [],
   "source": [
    "X_train, X_test, y_train, y_test = train_test_split(X, y, test_size=0.2, random_state=505)"
   ]
  },
  {
   "cell_type": "code",
   "execution_count": 7,
   "metadata": {},
   "outputs": [],
   "source": [
    "# ss = StandardScaler()\n",
    "# X_train = ss.fit_transform(X_train)\n",
    "# X_test = ss.transform(X_test)"
   ]
  },
  {
   "cell_type": "code",
   "execution_count": 8,
   "metadata": {},
   "outputs": [],
   "source": [
    "# Show metrics \n",
    "def show_metrics(cm):\n",
    "    tp = cm[1,1]\n",
    "    fn = cm[1,0]\n",
    "    fp = cm[0,1]\n",
    "    tn = cm[0,0]\n",
    "    print('Accuracy  = {:.3f}'.format((tp+tn)/(tp+tn+fp+fn)))\n",
    "    print('Precision = {:.3f}'.format(tp/(tp+fp)))\n",
    "    print('Recall    = {:.3f}'.format(tp/(tp+fn)))\n",
    "    print('F1_score  = {:.3f}'.format(2*(((tp/(tp+fp))*(tp/(tp+fn)))/\n",
    "                                                 ((tp/(tp+fp))+(tp/(tp+fn))))))"
   ]
  },
  {
   "cell_type": "code",
   "execution_count": 9,
   "metadata": {},
   "outputs": [],
   "source": [
    "def plot_roc_curve(fpr, tpr, auc_score):\n",
    "    plt.plot(fpr,tpr,label=\"auc=\"+str(auc_score))\n",
    "    plt.plot([0, 1], [0, 1], '--', color=(0.6, 0.6, 0.6), label='Luck')\n",
    "    plt.xlabel('False Positive Rate')\n",
    "    plt.ylabel('True Positive Rate')\n",
    "    plt.title('Receiver operating characteristic example')\n",
    "    plt.legend(loc=\"lower right\")\n",
    "    plt.show()    "
   ]
  },
  {
   "cell_type": "code",
   "execution_count": 10,
   "metadata": {},
   "outputs": [],
   "source": [
    "def plot_lift_curve(y_test, y_pred):\n",
    "    \"\"\"\n",
    "    https://gsarantitis.wordpress.com/2020/04/29/auc-roc-gains-chart-and-lift-curve-explained-with-business-implications/\n",
    "    \"\"\"\n",
    "    plt.figure(figsize=(7,7))\n",
    "    skplt.metrics.plot_lift_curve(y_test, y_pred)\n",
    "    plt.show()    "
   ]
  },
  {
   "cell_type": "code",
   "execution_count": 11,
   "metadata": {},
   "outputs": [],
   "source": [
    "def gridsearch_customized(X_train, X_test, y_train, y_test, estimator, param_grid, cv=3, scoring='roc_auc'):\n",
    "    \"\"\"\n",
    "    https://machinelearningmastery.com/hyperparameters-for-classification-machine-learning-algorithms/\n",
    "    \"\"\"\n",
    "    pipe = Pipeline([\n",
    "        ('scaler', StandardScaler()),\n",
    "        ('estimator', estimator)\n",
    "        ])\n",
    "    grid_search = GridSearchCV(estimator=pipe, param_grid=param_grid, n_jobs=-1, cv=cv, scoring=scoring)\n",
    "    grid_result = grid_search.fit(X_train, y_train)\n",
    "\n",
    "    # summarize results\n",
    "    print(\"Best: %f using %s\" % (grid_result.best_score_, grid_result.best_params_))\n",
    "    means = grid_result.cv_results_['mean_test_score']\n",
    "    stds = grid_result.cv_results_['std_test_score']\n",
    "    params = grid_result.cv_results_['params']\n",
    "\n",
    "#     for mean, stdev, param in zip(means, stds, params):\n",
    "#         print(\"%f (%f) with: %r\" % (mean, stdev, param))\n",
    "\n",
    "    y_pred = grid_search.predict_proba(X_test)\n",
    "\n",
    "    fpr, tpr, thresholds = roc_curve(y_test, y_pred[:, 1], pos_label=1)\n",
    "\n",
    "    auc_score = round(auc(fpr, tpr), 4)\n",
    "    cm = confusion_matrix(y_test, np.where(y_pred[:,1]>=0.5, 1, 0))\n",
    "\n",
    "    \n",
    "    print(\"Prediction ROC-AUC: {}\".format(auc_score))    \n",
    "#     print(classification_report(y_true, np.where(y_pred[:,1]>=0.5, 1, 0)))\n",
    "    show_metrics(cm)\n",
    "    \n",
    "    plot_roc_curve(fpr, tpr, auc_score)\n",
    "    plot_lift_curve(y_test, y_pred)"
   ]
  },
  {
   "cell_type": "markdown",
   "metadata": {},
   "source": [
    "### Modeling"
   ]
  },
  {
   "cell_type": "markdown",
   "metadata": {},
   "source": [
    "#### Decision Tree"
   ]
  },
  {
   "cell_type": "code",
   "execution_count": 12,
   "metadata": {
    "scrolled": true
   },
   "outputs": [
    {
     "name": "stdout",
     "output_type": "stream",
     "text": [
      "Best: 0.975977 using {'estimator__max_depth': 15, 'estimator__min_samples_leaf': 16}\n",
      "Prediction ROC-AUC: 0.9509\n",
      "Accuracy  = 0.912\n",
      "Precision = 0.907\n",
      "Recall    = 0.867\n",
      "F1_score  = 0.886\n"
     ]
    },
    {
     "data": {
      "image/png": "[encoded data removed]",
      "text/plain": [
       "<Figure size 432x288 with 1 Axes>"
      ]
     },
     "metadata": {
      "needs_background": "light"
     },
     "output_type": "display_data"
    },
    {
     "data": {
      "text/plain": [
       "<Figure size 504x504 with 0 Axes>"
      ]
     },
     "metadata": {},
     "output_type": "display_data"
    },
    {
     "data": {
      "image/png": "[encoded data removed]",
      "text/plain": [
       "<Figure size 432x288 with 1 Axes>"
      ]
     },
     "metadata": {
      "needs_background": "light"
     },
     "output_type": "display_data"
    }
   ],
   "source": [
    "# define models and parameters\n",
    "tree_clf = DecisionTreeClassifier()\n",
    "depths = np.arange(1,51,2)\n",
    "num_leafs = np.arange(1,101)\n",
    "\n",
    "# define grid search\n",
    "# tree_param_grid = dict(max_depth=depths, min_samples_leaf=num_leafs)\n",
    "tree_param_grid = dict(estimator__max_depth=depths, estimator__min_samples_leaf=num_leafs)\n",
    "\n",
    "gridsearch_customized(X_train, X_test, y_train, y_test, tree_clf, tree_param_grid, cv=3, scoring='roc_auc')"
   ]
  },
  {
   "cell_type": "markdown",
   "metadata": {},
   "source": [
    "#### KNN"
   ]
  },
  {
   "cell_type": "code",
   "execution_count": 13,
   "metadata": {
    "scrolled": true
   },
   "outputs": [
    {
     "name": "stdout",
     "output_type": "stream",
     "text": [
      "Best: 0.988679 using {'estimator__n_neighbors': 19, 'estimator__weights': 'distance'}\n",
      "Prediction ROC-AUC: 0.9974\n",
      "Accuracy  = 0.921\n",
      "Precision = 1.000\n",
      "Recall    = 0.800\n",
      "F1_score  = 0.889\n"
     ]
    },
    {
     "data": {
      "image/png": "[encoded data removed]",
      "text/plain": [
       "<Figure size 432x288 with 1 Axes>"
      ]
     },
     "metadata": {
      "needs_background": "light"
     },
     "output_type": "display_data"
    },
    {
     "data": {
      "text/plain": [
       "<Figure size 504x504 with 0 Axes>"
      ]
     },
     "metadata": {},
     "output_type": "display_data"
    },
    {
     "data": {
      "image/png": "[encoded data removed]",
      "text/plain": [
       "<Figure size 432x288 with 1 Axes>"
      ]
     },
     "metadata": {
      "needs_background": "light"
     },
     "output_type": "display_data"
    }
   ],
   "source": [
    "# define models and parameters\n",
    "knn_clf = KNeighborsClassifier()\n",
    "n_neighbors = range(1, 21, 2)\n",
    "weights = ['uniform', 'distance']\n",
    "\n",
    "# define grid search\n",
    "# knn_param_grid = dict(n_neighbors=n_neighbors,weights=weights)\n",
    "knn_param_grid = dict(estimator__n_neighbors=n_neighbors,estimator__weights=weights)\n",
    "\n",
    "gridsearch_customized(X_train, X_test, y_train, y_test, knn_clf, knn_param_grid, cv=3, scoring='roc_auc')"
   ]
  },
  {
   "cell_type": "markdown",
   "metadata": {},
   "source": [
    "#### Logistic Regression"
   ]
  },
  {
   "cell_type": "code",
   "execution_count": 14,
   "metadata": {
    "scrolled": true
   },
   "outputs": [
    {
     "name": "stdout",
     "output_type": "stream",
     "text": [
      "Best: 0.994077 using {'estimator__C': 0.1, 'estimator__penalty': 'l2', 'estimator__solver': 'liblinear'}\n",
      "Prediction ROC-AUC: 0.9968\n",
      "Accuracy  = 0.965\n",
      "Precision = 0.956\n",
      "Recall    = 0.956\n",
      "F1_score  = 0.956\n"
     ]
    },
    {
     "data": {
      "image/png": "[encoded data removed]",
      "text/plain": [
       "<Figure size 432x288 with 1 Axes>"
      ]
     },
     "metadata": {
      "needs_background": "light"
     },
     "output_type": "display_data"
    },
    {
     "data": {
      "text/plain": [
       "<Figure size 504x504 with 0 Axes>"
      ]
     },
     "metadata": {},
     "output_type": "display_data"
    },
    {
     "data": {
      "image/png": "[encoded data removed]",
      "text/plain": [
       "<Figure size 432x288 with 1 Axes>"
      ]
     },
     "metadata": {
      "needs_background": "light"
     },
     "output_type": "display_data"
    }
   ],
   "source": [
    "# define models and parameters\n",
    "lr_clf = LogisticRegression()\n",
    "solvers = ['newton-cg', 'lbfgs', 'liblinear']\n",
    "penalty = ['l2']\n",
    "c_values = [100, 10, 1.0, 0.1, 0.01]\n",
    "\n",
    "# define grid search\n",
    "# lr_param_grid = dict(solver=solvers,penalty=penalty,C=c_values)\n",
    "lr_param_grid = dict(estimator__solver=solvers,estimator__penalty=penalty,estimator__C=c_values)\n",
    "\n",
    "\n",
    "gridsearch_customized(X_train, X_test, y_train, y_test, lr_clf, lr_param_grid, cv=3, scoring='roc_auc')"
   ]
  },
  {
   "cell_type": "markdown",
   "metadata": {},
   "source": [
    "#### SVM"
   ]
  },
  {
   "cell_type": "markdown",
   "metadata": {},
   "source": [
    "https://chrisalbon.com/machine_learning/support_vector_machines/calibrate_predicted_probabilities_in_svc/"
   ]
  },
  {
   "cell_type": "code",
   "execution_count": 15,
   "metadata": {
    "scrolled": true
   },
   "outputs": [
    {
     "name": "stdout",
     "output_type": "stream",
     "text": [
      "Best: 0.994142 using {'estimator__C': 10, 'estimator__gamma': 0.001, 'estimator__kernel': 'rbf'}\n",
      "Prediction ROC-AUC: 0.9974\n",
      "Accuracy  = 0.974\n",
      "Precision = 0.977\n",
      "Recall    = 0.956\n",
      "F1_score  = 0.966\n"
     ]
    },
    {
     "data": {
      "image/png": "[encoded data removed]",
      "text/plain": [
       "<Figure size 432x288 with 1 Axes>"
      ]
     },
     "metadata": {
      "needs_background": "light"
     },
     "output_type": "display_data"
    },
    {
     "data": {
      "text/plain": [
       "<Figure size 504x504 with 0 Axes>"
      ]
     },
     "metadata": {},
     "output_type": "display_data"
    },
    {
     "data": {
      "image/png": "[encoded data removed]",
      "text/plain": [
       "<Figure size 432x288 with 1 Axes>"
      ]
     },
     "metadata": {
      "needs_background": "light"
     },
     "output_type": "display_data"
    }
   ],
   "source": [
    "svm_clf = SVC(probability=True)\n",
    "\n",
    "# define grid search\n",
    "# svm_param_grid = {'kernel': ['rbf', 'linear'], 'gamma': [1e-3, 1e-4],\n",
    "#                      'C': [1, 10, 100, 1000]}\n",
    "\n",
    "svm_param_grid = {'estimator__kernel': ['rbf', 'linear'], 'estimator__gamma': [1e-3, 1e-4],\n",
    "                     'estimator__C': [1, 10, 100, 1000]}\n",
    "\n",
    "gridsearch_customized(X_train, X_test, y_train, y_test, svm_clf, svm_param_grid, cv=3, scoring='roc_auc')"
   ]
  },
  {
   "cell_type": "markdown",
   "metadata": {},
   "source": [
    "### Q5"
   ]
  },
  {
   "cell_type": "markdown",
   "metadata": {},
   "source": [
    "- Code <br>\n",
    "https://github.com/rasbt/model-eval-article-supplementary/blob/master/code/nested_cv_code.ipynb <br>\n",
    "https://vitalflux.com/python-nested-cross-validation-algorithm-selection/ <br>\n",
    "https://datascience.stackexchange.com/questions/13185/nested-cross-validation-and-selecting-the-best-regression-model-is-this-the-ri <br>\n",
    "https://www.philipscurve.com/post/2020-10-24-nested-cross-validation/ <br>\n",
    "https://github.com/casperbh96/Nested-Cross-Validation <br>\n",
    "<br>\n",
    "\n",
    "- Discuss <br>\n",
    "https://arxiv.org/pdf/1809.09446.pdf <br> \n",
    "https://stackoverflow.com/questions/42742102/what-to-do-with-the-best-score-from-a-grid-search-obtained-from-a-nested-cross-v <br>\n",
    "https://scikit-learn-general.narkive.com/paMQ55PK/the-proper-way-to-do-nested-cross-validation-with-randomidized-gridsearchcv-pipelines <br>\n"
   ]
  },
  {
   "cell_type": "code",
   "execution_count": 38,
   "metadata": {
    "scrolled": false
   },
   "outputs": [
    {
     "data": {
      "text/html": [
       "<div>\n",
       "<style scoped>\n",
       "    .dataframe tbody tr th:only-of-type {\n",
       "        vertical-align: middle;\n",
       "    }\n",
       "\n",
       "    .dataframe tbody tr th {\n",
       "        vertical-align: top;\n",
       "    }\n",
       "\n",
       "    .dataframe thead th {\n",
       "        text-align: right;\n",
       "    }\n",
       "</style>\n",
       "<table border=\"1\" class=\"dataframe\">\n",
       "  <thead>\n",
       "    <tr style=\"text-align: right;\">\n",
       "      <th></th>\n",
       "      <th>buying</th>\n",
       "      <th>maint</th>\n",
       "      <th>doors</th>\n",
       "      <th>persons</th>\n",
       "      <th>lug_boot</th>\n",
       "      <th>safety</th>\n",
       "      <th>class</th>\n",
       "    </tr>\n",
       "  </thead>\n",
       "  <tbody>\n",
       "    <tr>\n",
       "      <th>0</th>\n",
       "      <td>vhigh</td>\n",
       "      <td>vhigh</td>\n",
       "      <td>2</td>\n",
       "      <td>2</td>\n",
       "      <td>small</td>\n",
       "      <td>low</td>\n",
       "      <td>unacc</td>\n",
       "    </tr>\n",
       "    <tr>\n",
       "      <th>1</th>\n",
       "      <td>vhigh</td>\n",
       "      <td>vhigh</td>\n",
       "      <td>2</td>\n",
       "      <td>2</td>\n",
       "      <td>small</td>\n",
       "      <td>med</td>\n",
       "      <td>unacc</td>\n",
       "    </tr>\n",
       "    <tr>\n",
       "      <th>2</th>\n",
       "      <td>vhigh</td>\n",
       "      <td>vhigh</td>\n",
       "      <td>2</td>\n",
       "      <td>2</td>\n",
       "      <td>small</td>\n",
       "      <td>high</td>\n",
       "      <td>unacc</td>\n",
       "    </tr>\n",
       "    <tr>\n",
       "      <th>3</th>\n",
       "      <td>vhigh</td>\n",
       "      <td>vhigh</td>\n",
       "      <td>2</td>\n",
       "      <td>2</td>\n",
       "      <td>med</td>\n",
       "      <td>low</td>\n",
       "      <td>unacc</td>\n",
       "    </tr>\n",
       "    <tr>\n",
       "      <th>4</th>\n",
       "      <td>vhigh</td>\n",
       "      <td>vhigh</td>\n",
       "      <td>2</td>\n",
       "      <td>2</td>\n",
       "      <td>med</td>\n",
       "      <td>med</td>\n",
       "      <td>unacc</td>\n",
       "    </tr>\n",
       "  </tbody>\n",
       "</table>\n",
       "</div>"
      ],
      "text/plain": [
       "  buying  maint doors persons lug_boot safety  class\n",
       "0  vhigh  vhigh     2       2    small    low  unacc\n",
       "1  vhigh  vhigh     2       2    small    med  unacc\n",
       "2  vhigh  vhigh     2       2    small   high  unacc\n",
       "3  vhigh  vhigh     2       2      med    low  unacc\n",
       "4  vhigh  vhigh     2       2      med    med  unacc"
      ]
     },
     "execution_count": 38,
     "metadata": {},
     "output_type": "execute_result"
    }
   ],
   "source": [
    "car_df = pd.read_csv('car.data', names= ['buying', 'maint', 'doors', 'persons', 'lug_boot', 'safety', 'class'])\n",
    "car_df.head()"
   ]
  },
  {
   "cell_type": "code",
   "execution_count": 42,
   "metadata": {
    "scrolled": true
   },
   "outputs": [
    {
     "data": {
      "image/png": "[encoded data removed]",
      "text/plain": [
       "<Figure size 432x288 with 2 Axes>"
      ]
     },
     "metadata": {
      "needs_background": "light"
     },
     "output_type": "display_data"
    }
   ],
   "source": [
    "fig, (ax1, ax2) = plt.subplots(1,2)\n",
    "\n",
    "car_df['class'].value_counts().plot(kind='bar', ax=ax1)\n",
    "(car_df['class'].value_counts()/np.sum(car_df['class'].value_counts())).plot(kind='bar', ax=ax2)\n",
    "plt.show()"
   ]
  },
  {
   "cell_type": "code",
   "execution_count": 43,
   "metadata": {},
   "outputs": [],
   "source": [
    "le = LabelEncoder()\n",
    "oe = OrdinalEncoder()\n",
    "ss = StandardScaler()"
   ]
  },
  {
   "cell_type": "code",
   "execution_count": 44,
   "metadata": {},
   "outputs": [],
   "source": [
    "X = car_df.drop(\"class\", axis=1)\n",
    "y = car_df[\"class\"]\n",
    "# ss = StandardScaler()\n",
    "# X = ss.fit_transform(X)"
   ]
  },
  {
   "cell_type": "code",
   "execution_count": 45,
   "metadata": {},
   "outputs": [],
   "source": [
    "encode_columns = []\n",
    "encode_columns.append(list(X.columns))"
   ]
  },
  {
   "cell_type": "code",
   "execution_count": 46,
   "metadata": {},
   "outputs": [
    {
     "data": {
      "text/plain": [
       "[['buying', 'maint', 'doors', 'persons', 'lug_boot', 'safety']]"
      ]
     },
     "execution_count": 46,
     "metadata": {},
     "output_type": "execute_result"
    }
   ],
   "source": [
    "encode_columns"
   ]
  },
  {
   "cell_type": "code",
   "execution_count": 47,
   "metadata": {},
   "outputs": [],
   "source": [
    "X_train, X_test, y_train, y_test = train_test_split(X, y, test_size=0.2, random_state=505)"
   ]
  },
  {
   "cell_type": "code",
   "execution_count": 48,
   "metadata": {},
   "outputs": [],
   "source": [
    "y_train = le.fit_transform(y_train)\n",
    "y_test = le.transform(y_test)"
   ]
  },
  {
   "cell_type": "markdown",
   "metadata": {},
   "source": [
    "### Modeling- NestedCV"
   ]
  },
  {
   "cell_type": "code",
   "execution_count": 49,
   "metadata": {},
   "outputs": [],
   "source": [
    "models_name = ['DecisionTree', 'KNeighborsClassifier', 'LogisticRegression', 'GaussianNB', 'SVC']\n",
    "pipe1 = Pipeline([('std', StandardScaler()),\n",
    "                  ('clf1', DecisionTreeClassifier())])\n",
    "\n",
    "pipe2 = Pipeline([('std', StandardScaler()),\n",
    "                  ('clf2', KNeighborsClassifier())])\n",
    "\n",
    "pipe3 = Pipeline([('std', StandardScaler()),\n",
    "                  ('clf3', LogisticRegression(multi_class='ovr', solver='liblinear'))])\n",
    "\n",
    "pipe4 = Pipeline([('std', StandardScaler()),\n",
    "                  ('clf4', GaussianNB())])\n",
    "\n",
    "pipe5 = Pipeline([('std', StandardScaler()),\n",
    "                  ('clf5', SVC())])\n",
    "\n",
    "models_to_run = [pipe1,pipe2,pipe3,pipe4,pipe5]\n",
    "models_param_grid = [ \n",
    "                    { # 1st param grid, corresponding to DecisionTreeClassifier\n",
    "                            'clf1__max_depth': range(1,21,2),\n",
    "                            'clf1__min_samples_leaf': range(1,10),\n",
    "                            'clf1__min_samples_split' : range(2,5)\n",
    "                    }, \n",
    "                    { # 2nd param grid, corresponding to KNeighborsClassifier\n",
    "                            'clf2__n_neighbors': range(1, 11),\n",
    "                            'clf2__p': range(1, 4)\n",
    "                    },\n",
    "                    { # 3rd param grid, corresponding to LogisticRegression\n",
    "                            'clf3__penalty': ['l1', 'l2'],\n",
    "                            'clf3__C': [100, 10, 1.0, 0.1, 0.01]\n",
    "                    },\n",
    "                    { # 4th param grid, corresponding to GaussianNB\n",
    "                            'clf4__var_smoothing': np.logspace(0,-9, num=100)\n",
    "                    },\n",
    "                    { # 5th param grid, corresponding to SVC\n",
    "                            'clf5__kernel': ['rbf'],\n",
    "                            'clf5__gamma': [1e-3, 1e-4],\n",
    "                            'clf5__C': [1, 10, 100, 1000]\n",
    "                    }    \n",
    "                    ]\n",
    "\n",
    "# list(zip(*(models_to_run, models_param_grid, models_name)))"
   ]
  },
  {
   "cell_type": "markdown",
   "metadata": {},
   "source": [
    "#### Ordinal Encoder Version"
   ]
  },
  {
   "cell_type": "code",
   "execution_count": 50,
   "metadata": {},
   "outputs": [],
   "source": [
    "X_oe_train = oe.fit_transform(X_train)\n",
    "X_oe_test = oe.transform(X_test)\n",
    "# X_oe_train = ss.fit_transform(X_oe_train)\n",
    "# X_oe_test = ss.transform(X_oe_test)"
   ]
  },
  {
   "cell_type": "code",
   "execution_count": 61,
   "metadata": {},
   "outputs": [
    {
     "name": "stdout",
     "output_type": "stream",
     "text": [
      "DecisionTree | outer f1 macro 94.29% +/- 2.08\n",
      "====================================================================================================\n",
      "GaussianNB | outer f1 macro 49.16% +/- 1.54\n",
      "====================================================================================================\n",
      "KNeighborsClassifier | outer f1 macro 79.03% +/- 1.63\n",
      "====================================================================================================\n",
      "LogisticRegression | outer f1 macro 29.06% +/- 0.83\n",
      "====================================================================================================\n",
      "SVC | outer f1 macro 29.74% +/- 1.41\n",
      "====================================================================================================\n",
      "Best model: DecisionTree, with accuracy: 0.94\n"
     ]
    }
   ],
   "source": [
    "cv_size = 3\n",
    "scoring = 'f1_macro'\n",
    "\n",
    "# inner cv\n",
    "gridcvs = {}\n",
    "inner_cv = StratifiedKFold(n_splits=cv_size, shuffle=True, random_state=505)\n",
    "\n",
    "for est, pgrid, name in zip(*(models_to_run, models_param_grid, models_name)):\n",
    "    gcv = GridSearchCV(estimator=est,\n",
    "                       param_grid=pgrid,\n",
    "                       scoring=scoring,\n",
    "                       n_jobs=1,\n",
    "                       cv=inner_cv,\n",
    "                       verbose=0,\n",
    "                       refit=True)\n",
    "    gridcvs[name] = gcv\n",
    "    \n",
    "# outer cv    \n",
    "model_dct = {}\n",
    "outer_cv = StratifiedKFold(n_splits=cv_size, shuffle=True, random_state=505)\n",
    "\n",
    "for name, gs_est in sorted(gridcvs.items()):\n",
    "    nested_score = cross_val_score(gs_est, \n",
    "                                   X=X_oe_train,\n",
    "                                   y=y_train,\n",
    "                                   cv=outer_cv,\n",
    "                                   n_jobs=1)\n",
    "    print('%s | outer f1 macro %.2f%% +/- %.2f' % \n",
    "          (name, nested_score.mean() * 100, nested_score.std() * 100))\n",
    "    \n",
    "    model_dct['{}'.format(name)] = round(np.mean(nested_score), 2)\n",
    "    print ('='*100)\n",
    "\n",
    "best_model = [key for key in model_dct if model_dct[key] == max(model_dct.values())]\n",
    "print(\"Best model: {}, with accuracy: {}\".format(best_model[0], model_dct[best_model[0]]))        \n",
    "\n",
    "\n",
    "# for name, gs_est in sorted(gridcvs.items()):\n",
    "#     nested_score = cross_val_score(gs_est, \n",
    "#                                    X=np.concatenate([X_oe_train, X_oe_test]),\n",
    "#                                    y=np.concatenate([y_train, y_test]),\n",
    "#                                    cv=outer_cv,\n",
    "#                                    n_jobs=1)\n",
    "#     print('%s | outer f1 macro %.2f%% +/- %.2f' % \n",
    "#           (name, nested_score.mean() * 100, nested_score.std() * 100))\n",
    "    \n",
    "#     model_dct['{}'.format(name)] = round(np.mean(nested_score), 2)\n",
    "#     print ('='*100)\n",
    "\n",
    "# best_model = [key for key in model_dct if model_dct[key] == max(model_dct.values())]\n",
    "# print(\"Best model: {}, with accuracy: {}\".format(best_model[0], model_dct[best_model[0]]))        "
   ]
  },
  {
   "cell_type": "markdown",
   "metadata": {},
   "source": [
    "### Modeling- GridSearchCV"
   ]
  },
  {
   "cell_type": "code",
   "execution_count": 62,
   "metadata": {
    "scrolled": true
   },
   "outputs": [
    {
     "name": "stdout",
     "output_type": "stream",
     "text": [
      "Best model: DecisionTree\n",
      "Best Parameters: 0.949437 using {'clf1__max_depth': 15, 'clf1__min_samples_leaf': 1, 'clf1__min_samples_split': 2}\n",
      "confusion matrix:  <sklearn.metrics._plot.confusion_matrix.ConfusionMatrixDisplay object at 0x128c6b430>\n",
      "              precision    recall  f1-score   support\n",
      "\n",
      "           0       1.00      1.00      1.00       384\n",
      "           1       1.00      1.00      1.00        69\n",
      "           2       1.00      1.00      1.00      1210\n",
      "           3       1.00      1.00      1.00        65\n",
      "\n",
      "    accuracy                           1.00      1728\n",
      "   macro avg       1.00      1.00      1.00      1728\n",
      "weighted avg       1.00      1.00      1.00      1728\n",
      "\n"
     ]
    },
    {
     "data": {
      "image/png": "[encoded data removed]",
      "text/plain": [
       "<Figure size 432x288 with 2 Axes>"
      ]
     },
     "metadata": {
      "needs_background": "light"
     },
     "output_type": "display_data"
    }
   ],
   "source": [
    "# Fitting a model to the whole training set\n",
    "# using the \"best\" algorithm\n",
    "best_algo = gridcvs[best_model[0]]\n",
    "\n",
    "best_algo.fit(X_oe_train, y_train)\n",
    "# best_algo.fit(np.concatenate([X_oe_train, X_oe_test]), np.concatenate([y_train, y_test]))\n",
    "\n",
    "# summarize results\n",
    "print(\"Best model: {}\".format(best_model[0])) \n",
    "print(\"Best Parameters: %f using %s\" % (best_algo.best_score_, best_algo.best_params_))\n",
    "means = best_algo.cv_results_['mean_test_score']\n",
    "stds = best_algo.cv_results_['std_test_score']\n",
    "params = best_algo.cv_results_['params']\n",
    "\n",
    "# for mean, stdev, param in zip(means, stds, params):\n",
    "#     print(\"%f (%f) with: %r\" % (mean, stdev, param))\n",
    "\n",
    "\n",
    "y_pred = best_algo.predict(np.concatenate([X_oe_train, X_oe_test]))\n",
    "# cm = confusion_matrix(np.concatenate([y_train, y_test]), y_pred)\n",
    "\n",
    "print ('confusion matrix: ', plot_confusion_matrix(best_algo, np.concatenate([X_oe_train, X_oe_test]), \\\n",
    "                                                   np.concatenate([y_train, y_test]), display_labels=le.classes_))\n",
    "print (classification_report(np.concatenate([y_train, y_test]), y_pred, digits=4))\n",
    "\n",
    "    \n",
    "# train_acc = accuracy_score(y_true=y_train, y_pred=best_algo.predict(X_oe_train))\n",
    "# test_acc = accuracy_score(y_true=y_test, y_pred=best_algo.predict(X_oe_test))\n",
    "\n",
    "# print('Accuracy %.2f%% (average over CV test folds)' %\n",
    "#       (100 * best_algo.best_score_))\n",
    "# print('Best Parameters: %s' % best_algo.best_params_)\n",
    "# print('Training Accuracy: %.2f%%' % (100 * train_acc))\n",
    "# print('Test Accuracy: %.2f%%' % (100 * test_acc))"
   ]
  },
  {
   "cell_type": "markdown",
   "metadata": {},
   "source": [
    "#### One Hot Encoder Version"
   ]
  },
  {
   "cell_type": "code",
   "execution_count": 56,
   "metadata": {},
   "outputs": [],
   "source": [
    "ohe = OneHotEncoder()\n",
    "X_ohe_train = ohe.fit_transform(X_train).toarray()\n",
    "X_ohe_test = ohe.transform(X_test).toarray()"
   ]
  },
  {
   "cell_type": "code",
   "execution_count": 63,
   "metadata": {
    "scrolled": true
   },
   "outputs": [
    {
     "name": "stdout",
     "output_type": "stream",
     "text": [
      "DecisionTree | outer f1 macro 89.54% +/- 4.36\n",
      "====================================================================================================\n",
      "GaussianNB | outer f1 macro 76.05% +/- 1.79\n",
      "====================================================================================================\n",
      "KNeighborsClassifier | outer f1 macro 72.86% +/- 1.68\n",
      "====================================================================================================\n",
      "LogisticRegression | outer f1 macro 74.52% +/- 3.42\n",
      "====================================================================================================\n",
      "SVC | outer f1 macro 96.15% +/- 1.42\n",
      "====================================================================================================\n",
      "Best model: SVC, with accuracy: 0.96\n"
     ]
    }
   ],
   "source": [
    "cv_size = 3\n",
    "scoring = 'f1_macro'\n",
    "\n",
    "# inner cv\n",
    "gridcvs = {}\n",
    "inner_cv = StratifiedKFold(n_splits=cv_size, shuffle=True, random_state=505)\n",
    "\n",
    "for est, pgrid, name in zip(*(models_to_run, models_param_grid, models_name)):\n",
    "    gcv = GridSearchCV(estimator=est,\n",
    "                       param_grid=pgrid,\n",
    "                       scoring=scoring,\n",
    "                       n_jobs=1,\n",
    "                       cv=inner_cv,\n",
    "                       verbose=0,\n",
    "                       refit=True)\n",
    "    gridcvs[name] = gcv\n",
    "    \n",
    "# outer cv    \n",
    "model_dct = {}\n",
    "outer_cv = StratifiedKFold(n_splits=cv_size, shuffle=True, random_state=505)\n",
    "\n",
    "\n",
    "for name, gs_est in sorted(gridcvs.items()):\n",
    "    nested_score = cross_val_score(gs_est, \n",
    "                                   X=X_ohe_train,\n",
    "                                   y=y_train,\n",
    "                                   cv=outer_cv,\n",
    "                                   n_jobs=1)\n",
    "    print('%s | outer f1 macro %.2f%% +/- %.2f' % \n",
    "          (name, nested_score.mean() * 100, nested_score.std() * 100))\n",
    "    \n",
    "    model_dct['{}'.format(name)] = round(np.mean(nested_score), 2)\n",
    "    print ('='*100)\n",
    "\n",
    "\n",
    "\n",
    "\n",
    "# for name, gs_est in sorted(gridcvs.items()):\n",
    "#     nested_score = cross_val_score(gs_est, \n",
    "#                                    X=np.concatenate([X_ohe_train, X_ohe_test]),\n",
    "#                                    y=np.concatenate([y_train, y_test]),\n",
    "#                                    cv=outer_cv,\n",
    "#                                    n_jobs=1)\n",
    "#     print('%s | outer f1 macro %.2f%% +/- %.2f' % \n",
    "#           (name, nested_score.mean() * 100, nested_score.std() * 100))\n",
    "    \n",
    "#     model_dct['{}'.format(name)] = round(np.mean(nested_score), 2)\n",
    "#     print ('='*100)\n",
    "\n",
    "best_model = [key for key in model_dct if model_dct[key] == max(model_dct.values())]\n",
    "print(\"Best model: {}, with accuracy: {}\".format(best_model[0], model_dct[best_model[0]]))        "
   ]
  },
  {
   "cell_type": "markdown",
   "metadata": {},
   "source": [
    "### Modeling- GridSearchCV"
   ]
  },
  {
   "cell_type": "code",
   "execution_count": 64,
   "metadata": {
    "scrolled": true
   },
   "outputs": [
    {
     "name": "stdout",
     "output_type": "stream",
     "text": [
      "Best model: SVC\n",
      "Best Parameters: 0.961524 using {'clf5__C': 1000, 'clf5__gamma': 0.001, 'clf5__kernel': 'rbf'}\n",
      "confusion matrix:  <sklearn.metrics._plot.confusion_matrix.ConfusionMatrixDisplay object at 0x129156700>\n",
      "              precision    recall  f1-score   support\n",
      "\n",
      "           0       0.99      1.00      1.00       384\n",
      "           1       0.97      1.00      0.99        69\n",
      "           2       1.00      1.00      1.00      1210\n",
      "           3       1.00      1.00      1.00        65\n",
      "\n",
      "    accuracy                           1.00      1728\n",
      "   macro avg       0.99      1.00      0.99      1728\n",
      "weighted avg       1.00      1.00      1.00      1728\n",
      "\n"
     ]
    },
    {
     "data": {
      "image/png": "[encoded data removed]",
      "text/plain": [
       "<Figure size 432x288 with 2 Axes>"
      ]
     },
     "metadata": {
      "needs_background": "light"
     },
     "output_type": "display_data"
    }
   ],
   "source": [
    "# Fitting a model to the whole training set\n",
    "# using the \"best\" algorithm\n",
    "best_algo = gridcvs[best_model[0]]\n",
    "\n",
    "best_algo.fit(X_ohe_train, y_train)\n",
    "# best_algo.fit(np.concatenate([X_ohe_train, X_ohe_test]), np.concatenate([y_train, y_test]))\n",
    "                             \n",
    "# summarize results\n",
    "print(\"Best model: {}\".format(best_model[0])) \n",
    "print(\"Best Parameters: %f using %s\" % (best_algo.best_score_, best_algo.best_params_))\n",
    "means = best_algo.cv_results_['mean_test_score']\n",
    "stds = best_algo.cv_results_['std_test_score']\n",
    "params = best_algo.cv_results_['params']\n",
    "\n",
    "# for mean, stdev, param in zip(means, stds, params):\n",
    "#     print(\"%f (%f) with: %r\" % (mean, stdev, param))\n",
    "\n",
    "    \n",
    "y_pred = best_algo.predict(np.concatenate([X_ohe_train, X_ohe_test]))\n",
    "# cm = confusion_matrix(np.concatenate([y_train, y_test]), y_pred)\n",
    "\n",
    "print ('confusion matrix: ', plot_confusion_matrix(best_algo, np.concatenate([X_ohe_train, X_ohe_test]), \\\n",
    "                                                   np.concatenate([y_train, y_test]), display_labels=le.classes_))\n",
    "print (classification_report(np.concatenate([y_train, y_test]), y_pred, digits=4))\n",
    "\n",
    "    \n",
    "# train_acc = accuracy_score(y_true=y_train, y_pred=best_algo.predict(X_oe_train))\n",
    "# test_acc = accuracy_score(y_true=y_test, y_pred=best_algo.predict(X_oe_test))\n",
    "\n",
    "# print('Accuracy %.2f%% (average over CV test folds)' %\n",
    "#       (100 * best_algo.best_score_))\n",
    "# print('Best Parameters: %s' % best_algo.best_params_)\n",
    "# print('Training Accuracy: %.2f%%' % (100 * train_acc))\n",
    "# print('Test Accuracy: %.2f%%' % (100 * test_acc))"
   ]
  }
 ],
 "metadata": {
  "kernelspec": {
   "display_name": "Python 3",
   "language": "python",
   "name": "python3"
  },
  "language_info": {
   "codemirror_mode": {
    "name": "ipython",
    "version": 3
   },
   "file_extension": ".py",
   "mimetype": "text/x-python",
   "name": "python",
   "nbconvert_exporter": "python",
   "pygments_lexer": "ipython3",
   "version": "3.8.6"
  }
 },
 "nbformat": 4,
 "nbformat_minor": 4
}
